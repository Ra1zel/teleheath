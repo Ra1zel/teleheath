{
 "cells": [
  {
   "cell_type": "code",
   "execution_count": 2,
   "metadata": {},
   "outputs": [],
   "source": [
    "import cv2\n",
    "import mediapipe as mp\n",
    "import numpy as np\n",
    "import os\n",
    "import csv\n",
    "from matplotlib import pyplot as plt\n",
    "mp_drawing = mp.solutions.drawing_utils\n",
    "mp_pose = mp.solutions.pose\n",
    "mp_holistic = mp.solutions.holistic\n",
    "mp_drawing_styles = mp.solutions.drawing_styles"
   ]
  },
  {
   "cell_type": "code",
   "execution_count": 3,
   "metadata": {},
   "outputs": [],
   "source": [
    "landmarks = ['class']\n",
    "for val in range(1,33+1):\n",
    "    landmarks += ['x{}'.format(val),'y{}'.format(val),'z{}'.format(val),'v{}'.format(val)]"
   ]
  },
  {
   "cell_type": "code",
   "execution_count": 45,
   "metadata": {},
   "outputs": [],
   "source": [
    "with open('leanCoords.csv',mode='w',newline='') as f:\n",
    "    csv_writer = csv.writer(f,delimiter=',',quotechar='\"',quoting=csv.QUOTE_MINIMAL)\n",
    "    csv_writer.writerow(landmarks)"
   ]
  },
  {
   "cell_type": "code",
   "execution_count": 46,
   "metadata": {},
   "outputs": [],
   "source": [
    "def export_landmarks(results,action):\n",
    "    try:\n",
    "        keypoints = np.array([[res.x,res.y,res.z,res.visibility] for res in results.pose_landmarks.landmark]).flatten().tolist()\n",
    "        keypoints.insert(0,action)\n",
    "\n",
    "        with open('leanCoords.csv',mode='a',newline='') as f:\n",
    "            csv_writer = csv.writer(f,delimiter=',',quotechar='\"',quoting=csv.QUOTE_MINIMAL)\n",
    "            csv_writer.writerow(keypoints)\n",
    "    except Exception as e:\n",
    "        pass\n"
   ]
  },
  {
   "cell_type": "code",
   "execution_count": 67,
   "metadata": {},
   "outputs": [],
   "source": [
    "# For webcam input:\n",
    "cap = cv2.VideoCapture('lean.avi')\n",
    "with mp_holistic.Holistic(\n",
    "    min_detection_confidence=0.5,\n",
    "    min_tracking_confidence=0.5) as holistic:\n",
    "  while cap.isOpened():\n",
    "    success, image = cap.read()\n",
    "    if not success:\n",
    "      print(\"Ignoring empty camera frame.\")\n",
    "      # If loading a video, use 'break' instead of 'continue'.\n",
    "      continue\n",
    "\n",
    "    # To improve performance, optionally mark the image as not writeable to\n",
    "    # pass by reference.\n",
    "    image.flags.writeable = False\n",
    "    image = cv2.cvtColor(image, cv2.COLOR_BGR2RGB)\n",
    "    results = holistic.process(image)\n",
    "\n",
    "    # Draw landmark annotation on the image.\n",
    "    image.flags.writeable = True\n",
    "    image = cv2.cvtColor(image, cv2.COLOR_RGB2BGR)\n",
    "    mp_drawing.draw_landmarks(\n",
    "        image,\n",
    "        results.face_landmarks,\n",
    "        mp_holistic.FACEMESH_CONTOURS,\n",
    "        landmark_drawing_spec=None,\n",
    "        connection_drawing_spec=mp_drawing_styles\n",
    "        .get_default_face_mesh_contours_style())\n",
    "    mp_drawing.draw_landmarks(\n",
    "        image,\n",
    "        results.pose_landmarks,\n",
    "        mp_holistic.POSE_CONNECTIONS,\n",
    "        landmark_drawing_spec=mp_drawing_styles\n",
    "        .get_default_pose_landmarks_style())\n",
    "    # Flip the image horizontally for a selfie-view display.\n",
    "\n",
    "\n",
    "    k=cv2.waitKey(1)\n",
    "    if k == 97:\n",
    "      export_landmarks(results,'left')\n",
    "    if k == 115:\n",
    "      export_landmarks(results,'neutral')\n",
    "    if k == 100:\n",
    "      export_landmarks(results,'right')\n",
    "    cv2.imshow('MediaPipe Holistic', image)\n",
    "    if cv2.waitKey(5) & 0xFF == 27:\n",
    "      break\n",
    "cap.release()\n",
    "cv2.destroyAllWindows()"
   ]
  },
  {
   "cell_type": "code",
   "execution_count": 4,
   "metadata": {},
   "outputs": [],
   "source": [
    "import pandas as pd\n",
    "from sklearn.model_selection import train_test_split"
   ]
  },
  {
   "cell_type": "code",
   "execution_count": 5,
   "metadata": {},
   "outputs": [],
   "source": [
    "df = pd.read_csv('leanCoords.csv')"
   ]
  },
  {
   "cell_type": "code",
   "execution_count": 6,
   "metadata": {},
   "outputs": [
    {
     "data": {
      "text/html": [
       "<div>\n",
       "<style scoped>\n",
       "    .dataframe tbody tr th:only-of-type {\n",
       "        vertical-align: middle;\n",
       "    }\n",
       "\n",
       "    .dataframe tbody tr th {\n",
       "        vertical-align: top;\n",
       "    }\n",
       "\n",
       "    .dataframe thead th {\n",
       "        text-align: right;\n",
       "    }\n",
       "</style>\n",
       "<table border=\"1\" class=\"dataframe\">\n",
       "  <thead>\n",
       "    <tr style=\"text-align: right;\">\n",
       "      <th></th>\n",
       "      <th>class</th>\n",
       "      <th>x1</th>\n",
       "      <th>y1</th>\n",
       "      <th>z1</th>\n",
       "      <th>v1</th>\n",
       "      <th>x2</th>\n",
       "      <th>y2</th>\n",
       "      <th>z2</th>\n",
       "      <th>v2</th>\n",
       "      <th>x3</th>\n",
       "      <th>...</th>\n",
       "      <th>z31</th>\n",
       "      <th>v31</th>\n",
       "      <th>x32</th>\n",
       "      <th>y32</th>\n",
       "      <th>z32</th>\n",
       "      <th>v32</th>\n",
       "      <th>x33</th>\n",
       "      <th>y33</th>\n",
       "      <th>z33</th>\n",
       "      <th>v33</th>\n",
       "    </tr>\n",
       "  </thead>\n",
       "  <tbody>\n",
       "    <tr>\n",
       "      <th>0</th>\n",
       "      <td>neutral</td>\n",
       "      <td>0.543642</td>\n",
       "      <td>0.175827</td>\n",
       "      <td>-0.218345</td>\n",
       "      <td>0.999989</td>\n",
       "      <td>0.549976</td>\n",
       "      <td>0.162153</td>\n",
       "      <td>-0.192544</td>\n",
       "      <td>0.999974</td>\n",
       "      <td>0.554557</td>\n",
       "      <td>...</td>\n",
       "      <td>0.070493</td>\n",
       "      <td>0.750420</td>\n",
       "      <td>0.633604</td>\n",
       "      <td>0.969165</td>\n",
       "      <td>-0.115837</td>\n",
       "      <td>0.970045</td>\n",
       "      <td>0.470120</td>\n",
       "      <td>0.979554</td>\n",
       "      <td>-0.116215</td>\n",
       "      <td>0.964302</td>\n",
       "    </tr>\n",
       "    <tr>\n",
       "      <th>1</th>\n",
       "      <td>neutral</td>\n",
       "      <td>0.546412</td>\n",
       "      <td>0.173854</td>\n",
       "      <td>-0.225710</td>\n",
       "      <td>0.999989</td>\n",
       "      <td>0.552340</td>\n",
       "      <td>0.160654</td>\n",
       "      <td>-0.199486</td>\n",
       "      <td>0.999975</td>\n",
       "      <td>0.556228</td>\n",
       "      <td>...</td>\n",
       "      <td>0.084965</td>\n",
       "      <td>0.753505</td>\n",
       "      <td>0.633508</td>\n",
       "      <td>0.971520</td>\n",
       "      <td>-0.100845</td>\n",
       "      <td>0.970999</td>\n",
       "      <td>0.470211</td>\n",
       "      <td>0.979659</td>\n",
       "      <td>-0.101456</td>\n",
       "      <td>0.965443</td>\n",
       "    </tr>\n",
       "    <tr>\n",
       "      <th>2</th>\n",
       "      <td>neutral</td>\n",
       "      <td>0.551265</td>\n",
       "      <td>0.172840</td>\n",
       "      <td>-0.290428</td>\n",
       "      <td>0.999989</td>\n",
       "      <td>0.556371</td>\n",
       "      <td>0.159922</td>\n",
       "      <td>-0.264890</td>\n",
       "      <td>0.999974</td>\n",
       "      <td>0.560699</td>\n",
       "      <td>...</td>\n",
       "      <td>0.088947</td>\n",
       "      <td>0.756995</td>\n",
       "      <td>0.634109</td>\n",
       "      <td>0.971622</td>\n",
       "      <td>-0.095475</td>\n",
       "      <td>0.971788</td>\n",
       "      <td>0.470424</td>\n",
       "      <td>0.979685</td>\n",
       "      <td>-0.100368</td>\n",
       "      <td>0.966886</td>\n",
       "    </tr>\n",
       "    <tr>\n",
       "      <th>3</th>\n",
       "      <td>neutral</td>\n",
       "      <td>0.554283</td>\n",
       "      <td>0.176627</td>\n",
       "      <td>-0.130254</td>\n",
       "      <td>0.999987</td>\n",
       "      <td>0.560225</td>\n",
       "      <td>0.165404</td>\n",
       "      <td>-0.102089</td>\n",
       "      <td>0.999970</td>\n",
       "      <td>0.564143</td>\n",
       "      <td>...</td>\n",
       "      <td>0.105602</td>\n",
       "      <td>0.692820</td>\n",
       "      <td>0.623076</td>\n",
       "      <td>0.965716</td>\n",
       "      <td>-0.058171</td>\n",
       "      <td>0.962088</td>\n",
       "      <td>0.491070</td>\n",
       "      <td>0.963767</td>\n",
       "      <td>-0.064456</td>\n",
       "      <td>0.955976</td>\n",
       "    </tr>\n",
       "    <tr>\n",
       "      <th>4</th>\n",
       "      <td>neutral</td>\n",
       "      <td>0.558957</td>\n",
       "      <td>0.177436</td>\n",
       "      <td>-0.159465</td>\n",
       "      <td>0.999985</td>\n",
       "      <td>0.565267</td>\n",
       "      <td>0.166830</td>\n",
       "      <td>-0.132173</td>\n",
       "      <td>0.999968</td>\n",
       "      <td>0.569156</td>\n",
       "      <td>...</td>\n",
       "      <td>0.124131</td>\n",
       "      <td>0.665324</td>\n",
       "      <td>0.622817</td>\n",
       "      <td>0.966141</td>\n",
       "      <td>-0.027958</td>\n",
       "      <td>0.959388</td>\n",
       "      <td>0.492522</td>\n",
       "      <td>0.967569</td>\n",
       "      <td>-0.050455</td>\n",
       "      <td>0.952429</td>\n",
       "    </tr>\n",
       "  </tbody>\n",
       "</table>\n",
       "<p>5 rows × 133 columns</p>\n",
       "</div>"
      ],
      "text/plain": [
       "     class        x1        y1        z1        v1        x2        y2  \\\n",
       "0  neutral  0.543642  0.175827 -0.218345  0.999989  0.549976  0.162153   \n",
       "1  neutral  0.546412  0.173854 -0.225710  0.999989  0.552340  0.160654   \n",
       "2  neutral  0.551265  0.172840 -0.290428  0.999989  0.556371  0.159922   \n",
       "3  neutral  0.554283  0.176627 -0.130254  0.999987  0.560225  0.165404   \n",
       "4  neutral  0.558957  0.177436 -0.159465  0.999985  0.565267  0.166830   \n",
       "\n",
       "         z2        v2        x3  ...       z31       v31       x32       y32  \\\n",
       "0 -0.192544  0.999974  0.554557  ...  0.070493  0.750420  0.633604  0.969165   \n",
       "1 -0.199486  0.999975  0.556228  ...  0.084965  0.753505  0.633508  0.971520   \n",
       "2 -0.264890  0.999974  0.560699  ...  0.088947  0.756995  0.634109  0.971622   \n",
       "3 -0.102089  0.999970  0.564143  ...  0.105602  0.692820  0.623076  0.965716   \n",
       "4 -0.132173  0.999968  0.569156  ...  0.124131  0.665324  0.622817  0.966141   \n",
       "\n",
       "        z32       v32       x33       y33       z33       v33  \n",
       "0 -0.115837  0.970045  0.470120  0.979554 -0.116215  0.964302  \n",
       "1 -0.100845  0.970999  0.470211  0.979659 -0.101456  0.965443  \n",
       "2 -0.095475  0.971788  0.470424  0.979685 -0.100368  0.966886  \n",
       "3 -0.058171  0.962088  0.491070  0.963767 -0.064456  0.955976  \n",
       "4 -0.027958  0.959388  0.492522  0.967569 -0.050455  0.952429  \n",
       "\n",
       "[5 rows x 133 columns]"
      ]
     },
     "execution_count": 6,
     "metadata": {},
     "output_type": "execute_result"
    }
   ],
   "source": [
    "df.head()"
   ]
  },
  {
   "cell_type": "code",
   "execution_count": 7,
   "metadata": {},
   "outputs": [],
   "source": [
    "X = df.drop('class',axis=1) #features\n",
    "y = df['class'] #target"
   ]
  },
  {
   "cell_type": "code",
   "execution_count": 8,
   "metadata": {},
   "outputs": [],
   "source": [
    "X_train,X_test,y_train,y_test = train_test_split(X,y,test_size=0.3,random_state=1234)"
   ]
  },
  {
   "cell_type": "code",
   "execution_count": 9,
   "metadata": {},
   "outputs": [
    {
     "data": {
      "text/plain": [
       "319    neutral\n",
       "658      right\n",
       "842       left\n",
       "637      right\n",
       "166    neutral\n",
       "        ...   \n",
       "36     neutral\n",
       "499      right\n",
       "64     neutral\n",
       "201    neutral\n",
       "37     neutral\n",
       "Name: class, Length: 278, dtype: object"
      ]
     },
     "execution_count": 9,
     "metadata": {},
     "output_type": "execute_result"
    }
   ],
   "source": [
    "y_test"
   ]
  },
  {
   "cell_type": "markdown",
   "metadata": {},
   "source": [
    "### Train Machine Learning Classification Model"
   ]
  },
  {
   "cell_type": "code",
   "execution_count": 10,
   "metadata": {},
   "outputs": [],
   "source": [
    "from sklearn.pipeline import make_pipeline\n",
    "from sklearn.preprocessing import StandardScaler\n",
    "\n",
    "from sklearn.linear_model import LogisticRegression,RidgeClassifier\n",
    "from sklearn.ensemble import RandomForestClassifier, GradientBoostingClassifier"
   ]
  },
  {
   "cell_type": "code",
   "execution_count": 11,
   "metadata": {},
   "outputs": [],
   "source": [
    "pipelines = {\n",
    "    'lr':make_pipeline(StandardScaler(),LogisticRegression()),\n",
    "    'rc':make_pipeline(StandardScaler(),RidgeClassifier()),\n",
    "    'rf':make_pipeline(StandardScaler(),RandomForestClassifier()),\n",
    "    'gb':make_pipeline(StandardScaler(),GradientBoostingClassifier())\n",
    "}"
   ]
  },
  {
   "cell_type": "code",
   "execution_count": 12,
   "metadata": {},
   "outputs": [],
   "source": [
    "fit_models = {}\n",
    "for algo, pipeline in pipelines.items():\n",
    "    model = pipeline.fit(X_train,y_train)\n",
    "    fit_models[algo] = model\n",
    "    "
   ]
  },
  {
   "cell_type": "code",
   "execution_count": 13,
   "metadata": {},
   "outputs": [
    {
     "data": {
      "text/plain": [
       "{'lr': Pipeline(steps=[('standardscaler', StandardScaler()),\n",
       "                 ('logisticregression', LogisticRegression())]),\n",
       " 'rc': Pipeline(steps=[('standardscaler', StandardScaler()),\n",
       "                 ('ridgeclassifier', RidgeClassifier())]),\n",
       " 'rf': Pipeline(steps=[('standardscaler', StandardScaler()),\n",
       "                 ('randomforestclassifier', RandomForestClassifier())]),\n",
       " 'gb': Pipeline(steps=[('standardscaler', StandardScaler()),\n",
       "                 ('gradientboostingclassifier', GradientBoostingClassifier())])}"
      ]
     },
     "execution_count": 13,
     "metadata": {},
     "output_type": "execute_result"
    }
   ],
   "source": [
    "fit_models"
   ]
  },
  {
   "cell_type": "code",
   "execution_count": 14,
   "metadata": {},
   "outputs": [
    {
     "data": {
      "text/plain": [
       "array(['neutral', 'right', 'left', 'right', 'neutral', 'neutral', 'left',\n",
       "       'neutral', 'right', 'neutral', 'right', 'neutral', 'right',\n",
       "       'neutral', 'neutral', 'neutral', 'neutral', 'neutral', 'neutral',\n",
       "       'right', 'left', 'right', 'right', 'neutral', 'right', 'neutral',\n",
       "       'neutral', 'left', 'left', 'neutral', 'neutral', 'right', 'left',\n",
       "       'right', 'left', 'neutral', 'neutral', 'right', 'neutral',\n",
       "       'neutral', 'right', 'neutral', 'neutral', 'neutral', 'neutral',\n",
       "       'right', 'left', 'neutral', 'left', 'right', 'left', 'right',\n",
       "       'neutral', 'left', 'left', 'neutral', 'neutral', 'neutral',\n",
       "       'neutral', 'neutral', 'right', 'neutral', 'neutral', 'neutral',\n",
       "       'neutral', 'neutral', 'neutral', 'neutral', 'right', 'neutral',\n",
       "       'neutral', 'right', 'neutral', 'neutral', 'right', 'neutral',\n",
       "       'neutral', 'right', 'left', 'neutral', 'left', 'neutral', 'right',\n",
       "       'neutral', 'left', 'right', 'left', 'neutral', 'right', 'right',\n",
       "       'right', 'neutral', 'neutral', 'neutral', 'right', 'neutral',\n",
       "       'neutral', 'neutral', 'right', 'neutral', 'neutral', 'neutral',\n",
       "       'right', 'right', 'left', 'neutral', 'left', 'right', 'right',\n",
       "       'neutral', 'neutral', 'neutral', 'left', 'neutral', 'neutral',\n",
       "       'neutral', 'right', 'neutral', 'neutral', 'right', 'right',\n",
       "       'right', 'neutral', 'neutral', 'neutral', 'neutral', 'right',\n",
       "       'neutral', 'left', 'left', 'neutral', 'neutral', 'right', 'right',\n",
       "       'neutral', 'neutral', 'right', 'right', 'right', 'neutral',\n",
       "       'neutral', 'right', 'neutral', 'neutral', 'left', 'neutral',\n",
       "       'neutral', 'neutral', 'neutral', 'neutral', 'right', 'right',\n",
       "       'neutral', 'neutral', 'left', 'neutral', 'left', 'right', 'left',\n",
       "       'neutral', 'neutral', 'left', 'right', 'right', 'right', 'neutral',\n",
       "       'neutral', 'neutral', 'left', 'neutral', 'left', 'neutral',\n",
       "       'right', 'left', 'right', 'right', 'neutral', 'neutral', 'neutral',\n",
       "       'right', 'neutral', 'neutral', 'neutral', 'neutral', 'left',\n",
       "       'neutral', 'neutral', 'neutral', 'neutral', 'left', 'neutral',\n",
       "       'neutral', 'right', 'neutral', 'neutral', 'left', 'right',\n",
       "       'neutral', 'neutral', 'left', 'neutral', 'neutral', 'neutral',\n",
       "       'right', 'right', 'left', 'left', 'neutral', 'neutral', 'neutral',\n",
       "       'neutral', 'right', 'left', 'right', 'neutral', 'right', 'right',\n",
       "       'right', 'neutral', 'neutral', 'left', 'right', 'neutral',\n",
       "       'neutral', 'neutral', 'neutral', 'neutral', 'right', 'neutral',\n",
       "       'neutral', 'right', 'neutral', 'left', 'left', 'neutral', 'left',\n",
       "       'neutral', 'right', 'left', 'neutral', 'neutral', 'right',\n",
       "       'neutral', 'neutral', 'neutral', 'neutral', 'neutral', 'right',\n",
       "       'right', 'neutral', 'neutral', 'neutral', 'neutral', 'neutral',\n",
       "       'neutral', 'neutral', 'neutral', 'neutral', 'right', 'neutral',\n",
       "       'right', 'neutral', 'right', 'neutral', 'neutral', 'right',\n",
       "       'neutral', 'neutral', 'neutral', 'right', 'neutral', 'right',\n",
       "       'right', 'neutral', 'right', 'neutral', 'neutral', 'neutral'],\n",
       "      dtype='<U7')"
      ]
     },
     "execution_count": 14,
     "metadata": {},
     "output_type": "execute_result"
    }
   ],
   "source": [
    "fit_models['rc'].predict(X_test)"
   ]
  },
  {
   "cell_type": "markdown",
   "metadata": {},
   "source": [
    "### Evaluate and Serialize Model"
   ]
  },
  {
   "cell_type": "code",
   "execution_count": 15,
   "metadata": {},
   "outputs": [],
   "source": [
    "from sklearn.metrics import accuracy_score, precision_score, recall_score # Accuracy Metrics\n",
    "import pickle"
   ]
  },
  {
   "cell_type": "code",
   "execution_count": 16,
   "metadata": {},
   "outputs": [
    {
     "name": "stdout",
     "output_type": "stream",
     "text": [
      "lr 1.0 1.0 1.0\n",
      "rc 1.0 1.0 1.0\n",
      "rf 1.0 1.0 1.0\n",
      "gb 1.0 1.0 1.0\n"
     ]
    }
   ],
   "source": [
    "for algo, model in fit_models.items():\n",
    "    yhat = model.predict(X_test)\n",
    "    print(algo,accuracy_score(y_test.values,yhat),\n",
    "    precision_score(y_test.values,yhat,average='weighted'),\n",
    "    recall_score(y_test.values,yhat,average='weighted'))"
   ]
  },
  {
   "cell_type": "code",
   "execution_count": 17,
   "metadata": {},
   "outputs": [],
   "source": [
    "yhat = fit_models['rf'].predict(X_test)"
   ]
  },
  {
   "cell_type": "code",
   "execution_count": 18,
   "metadata": {},
   "outputs": [
    {
     "data": {
      "text/plain": [
       "array(['neutral', 'right', 'left', 'right', 'neutral', 'neutral', 'left',\n",
       "       'neutral', 'right', 'neutral'], dtype=object)"
      ]
     },
     "execution_count": 18,
     "metadata": {},
     "output_type": "execute_result"
    }
   ],
   "source": [
    "yhat[:10]"
   ]
  },
  {
   "cell_type": "code",
   "execution_count": 19,
   "metadata": {},
   "outputs": [
    {
     "data": {
      "text/plain": [
       "319    neutral\n",
       "658      right\n",
       "842       left\n",
       "637      right\n",
       "166    neutral\n",
       "205    neutral\n",
       "894       left\n",
       "285    neutral\n",
       "576      right\n",
       "155    neutral\n",
       "Name: class, dtype: object"
      ]
     },
     "execution_count": 19,
     "metadata": {},
     "output_type": "execute_result"
    }
   ],
   "source": [
    "y_test[:10]"
   ]
  },
  {
   "cell_type": "code",
   "execution_count": 20,
   "metadata": {},
   "outputs": [],
   "source": [
    "with open('lean.pkl','wb') as f:\n",
    "    pickle.dump(fit_models['rf'],f)\n"
   ]
  },
  {
   "cell_type": "markdown",
   "metadata": {},
   "source": [
    "### Make detections with the Model"
   ]
  },
  {
   "cell_type": "code",
   "execution_count": 21,
   "metadata": {},
   "outputs": [],
   "source": [
    "with open('lean.pkl','rb') as f:\n",
    "    model = pickle.load(f)"
   ]
  },
  {
   "cell_type": "code",
   "execution_count": 3,
   "metadata": {},
   "outputs": [],
   "source": [
    "# For webcam input:\n",
    "counter = 0\n",
    "current_stage = ''\n",
    "cap = cv2.VideoCapture(0)\n",
    "with mp_holistic.Holistic(min_detection_confidence=0.5,min_tracking_confidence=0.5) as holistic:\n",
    "  while cap.isOpened():\n",
    "    success, image = cap.read()\n",
    "    if not success:\n",
    "      print(\"Ignoring empty camera frame.\")\n",
    "      # If loading a video, use 'break' instead of 'continue'.\n",
    "      continue\n",
    "\n",
    "    # To improve performance, optionally mark the image as not writeable to\n",
    "    # pass by reference.\n",
    "    image.flags.writeable = False\n",
    "    image = cv2.cvtColor(image, cv2.COLOR_BGR2RGB)\n",
    "    results = holistic.process(image)\n",
    "\n",
    "    # Draw landmark annotation on the image.\n",
    "    image.flags.writeable = True\n",
    "    image = cv2.cvtColor(image, cv2.COLOR_RGB2BGR)\n",
    "    mp_drawing.draw_landmarks(\n",
    "        image,\n",
    "        results.face_landmarks,\n",
    "        mp_holistic.FACEMESH_CONTOURS,\n",
    "        landmark_drawing_spec=None,\n",
    "        connection_drawing_spec=mp_drawing_styles\n",
    "        .get_default_face_mesh_contours_style())\n",
    "    mp_drawing.draw_landmarks(\n",
    "        image,\n",
    "        results.pose_landmarks,\n",
    "        mp_holistic.POSE_CONNECTIONS,\n",
    "        landmark_drawing_spec=mp_drawing_styles\n",
    "        .get_default_pose_landmarks_style())\n",
    "    \n",
    "    try:\n",
    "        row = np.array([[res.x,res.y,res.z,res.visibility] for res in results.pose_landmarks.landmark]).flatten().tolist()\n",
    "        X = pd.DataFrame([row],columns=landmarks[1:])\n",
    "        body_lean_class = model.predict(X)[0]\n",
    "        body_lean_prob = model.predict_proba(X)[0]\n",
    "        print(body_lean_class,body_lean_prob)\n",
    "\n",
    "        if body_lean_class == 'neutral' and body_lean_prob[body_lean_prob.argmax()] >= 0.7:\n",
    "            current_stage = 'neutral'\n",
    "            # print(\"huuuuuu\")\n",
    "        elif body_lean_class == 'left' and body_lean_prob[body_lean_prob.argmax()] >= 0.7:\n",
    "            current_stage = 'left'\n",
    "        elif body_lean_class == 'right' and body_lean_prob[body_lean_prob.argmax()] >= 0.7:\n",
    "            current_stage = 'right'\n",
    "        \n",
    "        # Get status box\n",
    "        cv2.rectangle(image,(0,0),(250,60),(245,117,16),-1)\n",
    "\n",
    "        #Display class\n",
    "        cv2.putText(image,'CLASS'\n",
    "            ,(95,12),cv2.FONT_HERSHEY_SIMPLEX,0.5,(0,0,0),1,cv2.LINE_AA)\n",
    "        cv2.putText(image,body_lean_class.split(' ')[0]\n",
    "        , (90,40),cv2.FONT_HERSHEY_SIMPLEX,1,(255,255,255),2,cv2.LINE_AA)\n",
    "\n",
    "        #Display Probability\n",
    "        cv2.putText(image,'PROB',(15,12),cv2.FONT_HERSHEY_SIMPLEX,0.5,(0,0,0),1,cv2.LINE_AA)\n",
    "        cv2.putText(image,str(round(body_lean_prob[np.argmax(body_lean_prob)],2))\n",
    "        ,(10,40),cv2.FONT_HERSHEY_SIMPLEX,1,(255,255,255),2,cv2.LINE_AA)\n",
    "\n",
    "        # #Display Probability\n",
    "        # cv2.putText(image,'COUNT',(180,12),cv2.FONT_HERSHEY_SIMPLEX,0.5,(0,0,0),1,cv2.LINE_AA)\n",
    "        # cv2.putText(image,str(counter),(175,40),cv2.FONT_HERSHEY_SIMPLEX,1,(255,255,255),2,cv2.LINE_AA)\n",
    "\n",
    "    except Exception as e:\n",
    "        pass\n",
    "\n",
    "    # Flip the image horizontally for a selfie-view display.\n",
    "    cv2.imshow('MediaPipe Holistic',image ) #cv2.flip(image, 1)\n",
    "    if cv2.waitKey(5) & 0xFF == 27:\n",
    "      break\n",
    "cap.release()\n",
    "cv2.destroyAllWindows()"
   ]
  },
  {
   "cell_type": "code",
   "execution_count": null,
   "metadata": {},
   "outputs": [],
   "source": []
  },
  {
   "cell_type": "code",
   "execution_count": null,
   "metadata": {},
   "outputs": [],
   "source": []
  },
  {
   "cell_type": "code",
   "execution_count": null,
   "metadata": {},
   "outputs": [],
   "source": []
  },
  {
   "cell_type": "code",
   "execution_count": null,
   "metadata": {},
   "outputs": [],
   "source": []
  }
 ],
 "metadata": {
  "kernelspec": {
   "display_name": "ai",
   "language": "python",
   "name": "python3"
  },
  "language_info": {
   "codemirror_mode": {
    "name": "ipython",
    "version": 3
   },
   "file_extension": ".py",
   "mimetype": "text/x-python",
   "name": "python",
   "nbconvert_exporter": "python",
   "pygments_lexer": "ipython3",
   "version": "3.8.13 (default, Mar 28 2022, 06:59:08) [MSC v.1916 64 bit (AMD64)]"
  },
  "orig_nbformat": 4,
  "vscode": {
   "interpreter": {
    "hash": "5af138deeb868a1d9bcaaf787eaaebdba68e976f322cd0f21433a4579759f5f7"
   }
  }
 },
 "nbformat": 4,
 "nbformat_minor": 2
}
